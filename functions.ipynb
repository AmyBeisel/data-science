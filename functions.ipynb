{
 "cells": [
  {
   "cell_type": "code",
   "execution_count": 1,
   "metadata": {},
   "outputs": [
    {
     "name": "stderr",
     "output_type": "stream",
     "text": [
      "In /Users/amybeisel/opt/anaconda3/envs/U4-S1-NLP/lib/python3.7/site-packages/matplotlib/mpl-data/stylelib/_classic_test.mplstyle: \n",
      "The savefig.frameon rcparam was deprecated in Matplotlib 3.1 and will be removed in 3.3.\n",
      "In /Users/amybeisel/opt/anaconda3/envs/U4-S1-NLP/lib/python3.7/site-packages/matplotlib/mpl-data/stylelib/_classic_test.mplstyle: \n",
      "The verbose.level rcparam was deprecated in Matplotlib 3.1 and will be removed in 3.3.\n",
      "In /Users/amybeisel/opt/anaconda3/envs/U4-S1-NLP/lib/python3.7/site-packages/matplotlib/mpl-data/stylelib/_classic_test.mplstyle: \n",
      "The verbose.fileo rcparam was deprecated in Matplotlib 3.1 and will be removed in 3.3.\n"
     ]
    }
   ],
   "source": [
    "import pandas as pd\n",
    "import re\n",
    "import string\n",
    "import matplotlib.pyplot as plt\n",
    "import numpy as np\n",
    "import spacy\n",
    "from sklearn.feature_extraction.text import CountVectorizer, TfidfVectorizer\n",
    "from sklearn.neighbors import NearestNeighbors"
   ]
  },
  {
   "cell_type": "code",
   "execution_count": 2,
   "metadata": {},
   "outputs": [],
   "source": [
    "df = pd.read_csv('data/cannabis.csv')"
   ]
  },
  {
   "cell_type": "code",
   "execution_count": 3,
   "metadata": {},
   "outputs": [],
   "source": [
    "# df = df.replace('None', np.nan)\n",
    "# df = df.dropna()"
   ]
  },
  {
   "cell_type": "code",
   "execution_count": 4,
   "metadata": {},
   "outputs": [
    {
     "data": {
      "text/plain": [
       "NearestNeighbors(algorithm='kd_tree', leaf_size=30, metric='minkowski',\n",
       "                 metric_params=None, n_jobs=None, n_neighbors=4, p=2,\n",
       "                 radius=1.0)"
      ]
     },
     "execution_count": 4,
     "metadata": {},
     "output_type": "execute_result"
    }
   ],
   "source": [
    "tfidf = TfidfVectorizer(stop_words='english', max_features=5000)\n",
    "dtm = tfidf.fit_transform(df['Effects'])\n",
    "dtm = pd.DataFrame(dtm.todense(), columns=tfidf.get_feature_names())\n",
    "nn = NearestNeighbors(n_neighbors=4, algorithm='kd_tree')\n",
    "nn.fit(dtm)\n"
   ]
  },
  {
   "cell_type": "code",
   "execution_count": 5,
   "metadata": {},
   "outputs": [],
   "source": [
    "import pickle\n",
    "# Dump the trained classifier (nn)  with Pickle\n",
    "pickle_filename = 'model.pkl'\n",
    "pickled_model = open(pickle_filename, 'wb')  # Open the file to save as pkl file\n",
    "pickle.dump(nn, pickled_model)\n",
    "pickled_model.close() # Close the pickle instances"
   ]
  },
  {
   "cell_type": "code",
   "execution_count": 6,
   "metadata": {},
   "outputs": [
    {
     "name": "stdout",
     "output_type": "stream",
     "text": [
      "Loaded model ::  NearestNeighbors(algorithm='kd_tree', leaf_size=30, metric='minkowski',\n",
      "                 metric_params=None, n_jobs=None, n_neighbors=4, p=2,\n",
      "                 radius=1.0)\n"
     ]
    }
   ],
   "source": [
    "# Loading the saved model\n",
    "model_pkl = open(pickle_filename, 'rb')\n",
    "NN_model = pickle.load(model_pkl)\n",
    "print (\"Loaded model :: \", NN_model)  # print to verify"
   ]
  },
  {
   "cell_type": "code",
   "execution_count": 7,
   "metadata": {},
   "outputs": [],
   "source": [
    "import pickle\n",
    "# Dump the trained classifier (tfidf)  with Pickle\n",
    "pickle_filename_1 = 'tfidf.pkl'\n",
    "pickled_model_1 = open(pickle_filename_1, 'wb')  # Open the file to save as pkl file\n",
    "pickle.dump(tfidf, pickled_model_1)\n",
    "pickled_model_1.close() # Close the pickle instances"
   ]
  },
  {
   "cell_type": "code",
   "execution_count": 8,
   "metadata": {},
   "outputs": [
    {
     "name": "stdout",
     "output_type": "stream",
     "text": [
      "Loaded model ::  TfidfVectorizer(analyzer='word', binary=False, decode_error='strict',\n",
      "                dtype=<class 'numpy.float64'>, encoding='utf-8',\n",
      "                input='content', lowercase=True, max_df=1.0, max_features=5000,\n",
      "                min_df=1, ngram_range=(1, 1), norm='l2', preprocessor=None,\n",
      "                smooth_idf=True, stop_words='english', strip_accents=None,\n",
      "                sublinear_tf=False, token_pattern='(?u)\\\\b\\\\w\\\\w+\\\\b',\n",
      "                tokenizer=None, use_idf=True, vocabulary=None)\n"
     ]
    }
   ],
   "source": [
    "# Loading the saved model\n",
    "model_pkl_1 = open(pickle_filename_1, 'rb')\n",
    "tfidf_model = pickle.load(model_pkl_1)\n",
    "print (\"Loaded model :: \", tfidf_model)  # print to verify"
   ]
  },
  {
   "cell_type": "code",
   "execution_count": 9,
   "metadata": {},
   "outputs": [],
   "source": [
    "import json\n",
    "def recommend(user_input):\n",
    "    temp_df = NN_model.kneighbors(tfidf_model.transform([user_input]).todense())[1]\n",
    "    \n",
    "\n",
    "    #print(temp_df)\n",
    "    \n",
    "    for i in range(4):\n",
    "        info = df.loc[temp_df[0][i]]['Strain']\n",
    "        info_effects = df.loc[temp_df[0][i]]['Effects']\n",
    "        info_flavor = df.loc[temp_df[0][i]]['Flavor']\n",
    "        info_description = df.loc[temp_df[0][i]]['Description']\n",
    "        info_rating = df.loc[temp_df[0][i]]['Rating']\n",
    "        \n",
    "        print(json.dumps(info))\n",
    "        print(json.dumps(info_effects))\n",
    "        print(json.dumps(info_flavor))\n",
    "        print(json.dumps(info_description))\n",
    "        print(json.dumps(info_rating))\n",
    "        \n",
    "        #return json.dumps(info)  #for engineeers, the return does not work in jupyter lab.  Should work in vsCode.\n",
    "        #return json.dumps(info_effects)\n",
    "        #return json.dumps(info_flavor)\n",
    "        #return json.dump(info_description)\n",
    "        #return json.dumps(info_rating)"
   ]
  },
  {
   "cell_type": "code",
   "execution_count": 11,
   "metadata": {},
   "outputs": [
    {
     "name": "stdout",
     "output_type": "stream",
     "text": [
      "\"Taliban-Poison\"\n",
      "\"Hungry,Aroused,Sleepy,Giggly,Happy\"\n",
      "\"Diesel,Skunk,Pine\"\n",
      "NaN\n",
      "3.7\n",
      "\"Alien-Hallucination\"\n",
      "\"Happy,Relaxed,Giggly,Aroused,Hungry\"\n",
      "\"Sweet,Earthy,Diesel\"\n",
      "\"Alien Hallucination is a hybrid cannabis strain that is believed to be a cross between the sedating Tahoe Alien and LSD, a classic Amsterdam hybrid known for its trippy head buzz. Bred by Alien Genetics, this strain will abduct the mind while your body remains anchored in deep physical relaxation.\"\n",
      "4.1\n",
      "\"Strawberry-Frost\"\n",
      "\"Happy,Aroused,Relaxed,Giggly,Hungry\"\n",
      "\"Sweet,Strawberry,Earthy\"\n",
      "\"Strawberry Frost by MaddFarmer is a three-way cross of fruity trichome producers. The genetic descendant of a Strawberry Cough/Deep Chunk hybrid crossed with Space Queen, Strawberry Frost is a heady indica-dominant strain that is gentle on the body. This dreamy strain calms the body and elevates the mind, placing the consumer in a relaxed, whimsical state. These effects naturally aid with stress, anxiety, and general restlessness.\\u00a0\"\n",
      "5.0\n",
      "\"Sugar-Punch\"\n",
      "\"Hungry,Happy,Giggly,Aroused,Uplifted\"\n",
      "\"Skunk,Sweet,Woody\"\n",
      "\"Sugar Punch is a sativa-dominant hybrid bred by Sannie Seeds that crosses Super Silver Haze\\u00a0with\\u00a0The One. These strong, sweet buds offer a mixed aroma of berry and lemon, delivering sedating, dreamy effects. Indoor grows can expect flowers between 9 and 10 weeks.\"\n",
      "4.8\n"
     ]
    }
   ],
   "source": [
    "recommend('Hungry,Aroused,Sleepy,Giggly,Happy')"
   ]
  },
  {
   "cell_type": "code",
   "execution_count": null,
   "metadata": {},
   "outputs": [],
   "source": []
  },
  {
   "cell_type": "code",
   "execution_count": null,
   "metadata": {},
   "outputs": [],
   "source": []
  },
  {
   "cell_type": "code",
   "execution_count": null,
   "metadata": {},
   "outputs": [],
   "source": []
  },
  {
   "cell_type": "code",
   "execution_count": null,
   "metadata": {},
   "outputs": [],
   "source": []
  }
 ],
 "metadata": {
  "kernelspec": {
   "display_name": "U4-S1-NLP (Python3)",
   "language": "python",
   "name": "u4-s1-nlp"
  },
  "language_info": {
   "codemirror_mode": {
    "name": "ipython",
    "version": 3
   },
   "file_extension": ".py",
   "mimetype": "text/x-python",
   "name": "python",
   "nbconvert_exporter": "python",
   "pygments_lexer": "ipython3",
   "version": "3.7.0"
  }
 },
 "nbformat": 4,
 "nbformat_minor": 4
}
